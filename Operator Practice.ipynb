{
 "cells": [
  {
   "cell_type": "code",
   "execution_count": 21,
   "id": "16cebb57",
   "metadata": {},
   "outputs": [
    {
     "name": "stdout",
     "output_type": "stream",
     "text": [
      "Enter First Input for Length: 2\n"
     ]
    }
   ],
   "source": [
    "#1. Take values of length and breadth of a rectabgle from user input() and check if it is square or not.\n",
    "\n",
    "len1 = float(input(\"Enter First Input for Length: \"))"
   ]
  },
  {
   "cell_type": "code",
   "execution_count": 22,
   "id": "4fcf8a47",
   "metadata": {},
   "outputs": [
    {
     "name": "stdout",
     "output_type": "stream",
     "text": [
      "Enter 2nd Input for Breadth: 3\n"
     ]
    }
   ],
   "source": [
    "bread =float(input(\"Enter 2nd Input for Breadth: \"))"
   ]
  },
  {
   "cell_type": "code",
   "execution_count": 23,
   "id": "2a5842b4",
   "metadata": {},
   "outputs": [
    {
     "name": "stdout",
     "output_type": "stream",
     "text": [
      "The Recangle is not square.\n"
     ]
    }
   ],
   "source": [
    "if (len1==bread):\n",
    "    print(\"The Recanlge is Square.\")\n",
    "else:\n",
    "    print(\"The Recangle is not square.\")"
   ]
  },
  {
   "cell_type": "code",
   "execution_count": 57,
   "id": "b68f05f6",
   "metadata": {},
   "outputs": [
    {
     "name": "stdout",
     "output_type": "stream",
     "text": [
      "Enter the First Number: 10\n",
      "Enter the 2nd Number: 15\n",
      "Enter the 3rd Number: 20\n"
     ]
    }
   ],
   "source": [
    "#2. Take three integger values from user and print greatest among them.\n",
    "\n",
    "a =float(input(\"Enter the First Number: \"))\n",
    "b =float(input(\"Enter the 2nd Number: \"))\n",
    "c =float(input(\"Enter the 3rd Number: \"))"
   ]
  },
  {
   "cell_type": "code",
   "execution_count": 58,
   "id": "65af449b",
   "metadata": {},
   "outputs": [
    {
     "name": "stdout",
     "output_type": "stream",
     "text": [
      "c is largest number:  20.0\n"
     ]
    }
   ],
   "source": [
    "if a>b and a>c:\n",
    "    print('a is largest number', a)\n",
    "elif b>a and b>c:\n",
    "    print('b is largest number: ',b)\n",
    "else:\n",
    "    print('c is largest number: ',c)"
   ]
  },
  {
   "cell_type": "code",
   "execution_count": 59,
   "id": "ae774d80",
   "metadata": {},
   "outputs": [
    {
     "name": "stdout",
     "output_type": "stream",
     "text": [
      "Enter total day:30\n",
      "Enter total attendence: 25\n"
     ]
    }
   ],
   "source": [
    "#3. A student will not be allowed to sit in exam if his/her attendance is less than 75%.\n",
    "\n",
    "Total_Day = float(input('Enter total day:'))\n",
    "a= Total_Day\n",
    "Total_Attendence = float(input('Enter total attendence: '))\n",
    "b=Total_Attendence"
   ]
  },
  {
   "cell_type": "code",
   "execution_count": 60,
   "id": "bd09abe7",
   "metadata": {},
   "outputs": [
    {
     "name": "stdout",
     "output_type": "stream",
     "text": [
      "Allow for sit in Exam:\n"
     ]
    }
   ],
   "source": [
    "if (b*100)/a > =75:\n",
    "    print('Allow for sit in Exam:')\n",
    "else:\n",
    "    print(\"Not Allow\")"
   ]
  },
  {
   "cell_type": "code",
   "execution_count": 53,
   "id": "a6607574",
   "metadata": {},
   "outputs": [
    {
     "name": "stdout",
     "output_type": "stream",
     "text": [
      "Your marks: 30\n",
      "Yor Grade is : F\n"
     ]
    }
   ],
   "source": [
    "#3. Below 25-f, 25 to 44-e, 45 to 49-d, 50 to 59-c, 60 to 79-b, 80 to 89-a, above 90- a+  Now, Ask user to enter marks and print the correspondiing grade.\n",
    "\n",
    "\n",
    "Marks =float(input(\"Your marks: \"))\n",
    "a=Marks\n",
    "if a>90:\n",
    "    print(\"Your Grade is: A+\")\n",
    "elif a>80:\n",
    "    print(\"Your Grade is: A\")\n",
    "elif a>70:\n",
    "    print(\"Your Grade is: A-\")\n",
    "elif a>65:\n",
    "    print(\"Your Grade is:B+\")\n",
    "elif a>60:\n",
    "    print(\"Your Grade is:B\")\n",
    "elif a>50:\n",
    "    print(\"Your Grade is:B-\")\n",
    "elif a>40:\n",
    "    print(\"Your Grade is:D\")\n",
    "else:\n",
    "    print(\"Yor Grade is : F\")"
   ]
  },
  {
   "cell_type": "code",
   "execution_count": null,
   "id": "d8dbb768",
   "metadata": {},
   "outputs": [],
   "source": []
  }
 ],
 "metadata": {
  "kernelspec": {
   "display_name": "Python 3 (ipykernel)",
   "language": "python",
   "name": "python3"
  },
  "language_info": {
   "codemirror_mode": {
    "name": "ipython",
    "version": 3
   },
   "file_extension": ".py",
   "mimetype": "text/x-python",
   "name": "python",
   "nbconvert_exporter": "python",
   "pygments_lexer": "ipython3",
   "version": "3.9.13"
  }
 },
 "nbformat": 4,
 "nbformat_minor": 5
}
